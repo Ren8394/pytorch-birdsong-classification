{
 "cells": [
  {
   "cell_type": "code",
   "execution_count": 1,
   "metadata": {},
   "outputs": [],
   "source": [
    "import ast\n",
    "import matplotlib.pyplot as plt\n",
    "plt.style.use('ggplot')\n",
    "import numpy as np\n",
    "import os\n",
    "os.chdir('../')\n",
    "import pandas as pd\n",
    "\n",
    "from pathlib import Path\n",
    "\n",
    "from src.utils.utils import GetSortedSpeciesCode\n",
    "from src.utils.threshold_app import countFileLabels, findThreshold"
   ]
  },
  {
   "cell_type": "code",
   "execution_count": 4,
   "metadata": {},
   "outputs": [],
   "source": [
    "TARGET_SPECIES = GetSortedSpeciesCode()"
   ]
  },
  {
   "cell_type": "code",
   "execution_count": 11,
   "metadata": {},
   "outputs": [
    {
     "data": {
      "text/plain": [
       "[0.55, 0.71, 0.68, 0.54, 0.62, 0.66, 0.55, 0.44, 0.59]"
      ]
     },
     "execution_count": 11,
     "metadata": {},
     "output_type": "execute_result"
    }
   ],
   "source": [
    "df = pd.read_csv(Path.cwd().joinpath('data', 'test_overall.csv'), header=[0, 1], index_col=0)\n",
    "dfIndex = df.index\n",
    "thres = []\n",
    "for sp in TARGET_SPECIES:\n",
    "  thres.append(dfIndex[np.argmax(df.loc[:, (sp, 'f0.5')])])\n",
    "\n",
    "thres"
   ]
  },
  {
   "cell_type": "code",
   "execution_count": null,
   "metadata": {},
   "outputs": [],
   "source": [
    "sLabelPaths = sorted(Path.cwd().joinpath('data', 'raw', 'Label').glob('*.txt'))\n",
    "countDF = countFileLabels(sLabelPaths)\n",
    "\n",
    "## Load Predict Probability CSV\n",
    "predictDF = pd.read_csv(Path.cwd().joinpath('data', 'TEST_APP.csv'), header=0)\n",
    "\n",
    "## Find threshold for each species\n",
    "maxThresDict, spThresDict = findThreshold(predictDF, countDF)"
   ]
  },
  {
   "cell_type": "code",
   "execution_count": null,
   "metadata": {},
   "outputs": [],
   "source": [
    "df = pd.DataFrame.from_dict(spThresDict)\n",
    "precisionRecallDF = df.applymap(lambda x: x[2:4])\n",
    "precisionRecallDF['threshold'] = np.around(np.arange(0, 1, 0.05), decimals=2)\n",
    "precisionRecallDF=precisionRecallDF[['threshold']+TARGET_SPECIES]\n",
    "precisionRecallDF[['threshold']+TARGET_SPECIES].to_csv(Path.cwd().joinpath('precisionRecall.csv'), header=True, index=False)"
   ]
  },
  {
   "cell_type": "code",
   "execution_count": null,
   "metadata": {},
   "outputs": [],
   "source": [
    "f = lambda x,y,z : (1+z**2) * (x * y) / (z**2 * x + y)\n",
    "\n",
    "resDFIndex = pd.MultiIndex.from_product(\n",
    "  [TARGET_SPECIES, ['precision', 'recall', 'f0.5', 'f1', 'f2']], \n",
    ")\n",
    "thresList = np.around(np.arange(0, 1, 0.05), decimals=2)\n",
    "resDF = pd.DataFrame(columns=thresList, index=resDFIndex)\n",
    "\n",
    "for sp in TARGET_SPECIES:\n",
    "  for index, row in enumerate(precisionRecallDF[sp]):\n",
    "    resDF.loc[(sp, 'precision'), thresList[index]] = np.round(row[0], decimals=4)\n",
    "    resDF.loc[(sp, 'recall'), thresList[index]] = np.round(row[1], decimals=4)\n",
    "    resDF.loc[(sp, 'f0.5'), thresList[index]] = np.round(f(row[0], row[1], 0.5), decimals=4)\n",
    "    resDF.loc[(sp, 'f1'), thresList[index]] = np.round(f(row[0], row[1], 1.0), decimals=4)\n",
    "    resDF.loc[(sp, 'f2'), thresList[index]] = np.round(f(row[0], row[1], 2.0), decimals=4)\n",
    "\n",
    "resDF.fillna(0, inplace=True)\n",
    "resDF.T.to_csv(Path.cwd().joinpath('one-min-report.csv'), header=True, index=True)"
   ]
  },
  {
   "cell_type": "code",
   "execution_count": null,
   "metadata": {},
   "outputs": [],
   "source": [
    "def filterTarget(l):\n",
    "  res = []\n",
    "  for x in l:\n",
    "    if x in TARGET_SPECIES:\n",
    "      res.append(x)\n",
    "  return res\n",
    "\n",
    "def countLabel(df:pd.DataFrame):\n",
    "  spDict = {sp:0 for sp in TARGET_SPECIES}\n",
    "  for _, row in df.iterrows():\n",
    "    for sp in row['label']:\n",
    "      if sp in TARGET_SPECIES:\n",
    "        spDict[sp] += 1\n",
    "  return spDict"
   ]
  },
  {
   "cell_type": "code",
   "execution_count": null,
   "metadata": {},
   "outputs": [],
   "source": [
    "df = pd.read_csv(Path.cwd().joinpath('data', 'LABEL_SEG.csv'), header=0)\n",
    "df['label'] = df['label'].apply(lambda x: filterTarget(ast.literal_eval(x)))\n",
    "\n",
    "xcDF = df[df['file'].str.contains('XC\\d')]\n",
    "mlDF = df[df['file'].str.contains('ML\\d')]\n",
    "selfDF = df[~df['file'].str.contains('ML\\d|XC\\d')]\n",
    "\n",
    "xcLabel = countLabel(xcDF)\n",
    "mlLabel = countLabel(mlDF)\n",
    "selfLabel = countLabel(selfDF)"
   ]
  },
  {
   "cell_type": "code",
   "execution_count": null,
   "metadata": {},
   "outputs": [],
   "source": [
    "labelDF = pd.DataFrame.from_records(\n",
    "  [xcLabel, mlLabel, selfLabel],\n",
    "  index=['XC', 'ML', 'SELF']\n",
    ")\n",
    "labelDF = labelDF.T\n",
    "\n",
    "plt.style.use('ggplot')\n",
    "fig = plt.figure(figsize=(16, 9))\n",
    "ax = plt.gca()\n",
    "ax.bar(x=TARGET_SPECIES, height=labelDF['XC']+labelDF['ML']+labelDF['SELF'])\n",
    "ax.bar(x=TARGET_SPECIES, height=labelDF['XC']+labelDF['SELF'])\n",
    "ax.bar(x=TARGET_SPECIES, height=labelDF['SELF'])\n",
    "print(labelDF)"
   ]
  },
  {
   "cell_type": "code",
   "execution_count": null,
   "metadata": {},
   "outputs": [],
   "source": [
    "import librosa\n",
    "import librosa.display\n",
    "\n",
    "audio, sr = librosa.load(\n",
    "  str(Path.cwd().joinpath('data', 'raw', 'GW01FOREST_20210401_060600.wav')),\n",
    "  sr=None\n",
    ")\n",
    "nrAudio, sr = librosa.load(\n",
    "  str(Path.cwd().joinpath('data', 'raw', 'NrAudio', 'GW01FOREST_20210401_060600.wav')),\n",
    "  sr=None\n",
    ")\n",
    "mel = librosa.feature.melspectrogram(\n",
    "  y=audio, sr=sr, n_fft=1024, hop_length=512, \n",
    "  n_mels=128, fmin=1000, fmax=10000\n",
    ")\n",
    "nrMel = librosa.feature.melspectrogram(\n",
    "  y=nrAudio, sr=sr, n_fft=1024, hop_length=512, \n",
    "  n_mels=128, fmin=1000, fmax=10000\n",
    ")\n",
    "image = librosa.pcen(mel * (2**31), sr=sr, time_constant=0.06, gain=0.8, bias=10, power=0.25)\n",
    "nrImage = librosa.pcen(nrMel * (2**31), sr=sr, time_constant=0.06, gain=0.8, bias=10, power=0.25)\n",
    "\n",
    "\n",
    "fig, ax = plt.subplots(4, 1, figsize=(128, 72))\n",
    "ax = ax.flatten()\n",
    "librosa.display.waveshow(audio, sr=sr, ax=ax[0], color='b')\n",
    "ax[0].set_xlim(0, 60)\n",
    "librosa.display.specshow(\n",
    "  image, y_axis='linear', x_axis='time',\n",
    "  sr=sr, ax=ax[1], fmin=1000, fmax=10000, cmap='YlOrRd'\n",
    ")\n",
    "librosa.display.waveshow(nrAudio, sr=sr, ax=ax[2], color='b')\n",
    "ax[2].set_xlim(0, 60)\n",
    "librosa.display.specshow(\n",
    "  nrImage, y_axis='linear', x_axis='time',\n",
    "  sr=sr, ax=ax[3], fmin=1000, fmax=10000, cmap='YlOrRd'\n",
    ")"
   ]
  }
 ],
 "metadata": {
  "kernelspec": {
   "display_name": "Python 3.9.13 ('pytorch_env')",
   "language": "python",
   "name": "python3"
  },
  "language_info": {
   "codemirror_mode": {
    "name": "ipython",
    "version": 3
   },
   "file_extension": ".py",
   "mimetype": "text/x-python",
   "name": "python",
   "nbconvert_exporter": "python",
   "pygments_lexer": "ipython3",
   "version": "3.9.13"
  },
  "orig_nbformat": 4,
  "vscode": {
   "interpreter": {
    "hash": "802908908370ccb42dc2a7ac32386db1a5400a9392b38929d32ff89e4b8f01c3"
   }
  }
 },
 "nbformat": 4,
 "nbformat_minor": 2
}
