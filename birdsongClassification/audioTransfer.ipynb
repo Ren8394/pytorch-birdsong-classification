{
 "cells": [
  {
   "cell_type": "code",
   "execution_count": 1,
   "metadata": {},
   "outputs": [],
   "source": [
    "import shutil\n",
    "\n",
    "from datetime import datetime\n",
    "from pathlib import Path\n",
    "from tkinter import *\n",
    "from tkinter.filedialog import askdirectory\n",
    "from tqdm.notebook import tqdm"
   ]
  },
  {
   "cell_type": "code",
   "execution_count": 2,
   "metadata": {},
   "outputs": [],
   "source": [
    "timeSet = ('050000', '120000')  # hhmmss (start time, end time)\n",
    "monthSet = (2, 7)               # M (start month, end month)\n",
    "copyNumber = 30                 # How many files want to copy to distination folder\n",
    "firstFile = 0                   # What is the first file order in the file list"
   ]
  },
  {
   "cell_type": "code",
   "execution_count": 3,
   "metadata": {},
   "outputs": [],
   "source": [
    "root = Tk()\n",
    "root.withdraw()\n",
    "srcFolderPath = askdirectory(title='Select the source folder')\n",
    "dstFolderPath = askdirectory(title='Select the destination folder')\n",
    "srcsPath = sorted(Path(srcFolderPath).glob('*.wav'))[firstFile:]"
   ]
  },
  {
   "cell_type": "code",
   "execution_count": null,
   "metadata": {},
   "outputs": [],
   "source": [
    "dateCount= {}  # Number of already copied files for every date\n",
    "for sPath in tqdm(srcsPath):\n",
    "  # filename: {stationName}_{date:yyyymmdd}_{time:hhMMss}.wav\n",
    "  date = sPath.stem.split('_')[1]\n",
    "  month = datetime.strptime(date, '%Y%m%d').date().month\n",
    "  time = sPath.stem.split('_')[2]\n",
    "\n",
    "  # Filter\n",
    "  if month > monthSet[0] and month < monthSet[1]:\n",
    "    if time > timeSet[0] and time < timeSet[1]:\n",
    "      if dateCount.get(date) == None:\n",
    "        shutil.copy(src=sPath, dst=dstFolderPath)\n",
    "        dateCount[date] = 1\n",
    "      elif dateCount[date] < copyNumber:\n",
    "        shutil.copy(src=sPath, dst=dstFolderPath)\n",
    "        dateCount[date] += 1"
   ]
  }
 ],
 "metadata": {
  "kernelspec": {
   "display_name": "Python 3.9.13 ('pytorch_env')",
   "language": "python",
   "name": "python3"
  },
  "language_info": {
   "codemirror_mode": {
    "name": "ipython",
    "version": 3
   },
   "file_extension": ".py",
   "mimetype": "text/x-python",
   "name": "python",
   "nbconvert_exporter": "python",
   "pygments_lexer": "ipython3",
   "version": "3.9.13"
  },
  "orig_nbformat": 4,
  "vscode": {
   "interpreter": {
    "hash": "802908908370ccb42dc2a7ac32386db1a5400a9392b38929d32ff89e4b8f01c3"
   }
  }
 },
 "nbformat": 4,
 "nbformat_minor": 2
}
