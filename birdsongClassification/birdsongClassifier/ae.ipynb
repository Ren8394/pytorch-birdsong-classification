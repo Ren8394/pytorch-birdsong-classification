{
 "cells": [
  {
   "cell_type": "markdown",
   "metadata": {},
   "source": [
    "# Auto-encoder"
   ]
  },
  {
   "cell_type": "code",
   "execution_count": null,
   "metadata": {},
   "outputs": [],
   "source": [
    "import configparser\n",
    "import numpy as np\n",
    "import os\n",
    "os.environ['CUDA_LAUNCH_BLOCKING'] = '1'\n",
    "import sys\n",
    "import torch\n",
    "import torch.nn as nn\n",
    "\n",
    "from datetime import datetime\n",
    "from pathlib import Path\n",
    "sys.path.append(str(Path.cwd().parent))\n",
    "from torch.utils.data import DataLoader\n",
    "from tqdm.notebook import tqdm\n",
    "\n",
    "from src.dataset import BirdsongDataset\n",
    "from src.network import AutoEncoder"
   ]
  },
  {
   "cell_type": "code",
   "execution_count": null,
   "metadata": {},
   "outputs": [],
   "source": [
    "config = configparser.ConfigParser()\n",
    "config.read(str(Path.cwd().parent.parent.joinpath('setting', 'config.ini')))\n",
    "\n",
    "EPOCHS = config['Model'].getint('Epochs')\n",
    "BATCH_SIZE = config['Model'].getint('BatchSize')\n",
    "LEARNING_RATE = config['Model'].getfloat('LearningRate')\n",
    "EARLY_STOP = config['Model'].getint('EarlyStop')\n",
    "\n",
    "torch.manual_seed(42)\n",
    "if torch.cuda.is_available():\n",
    "  DEVICE = torch.device(f'cuda:{config[\"Model\"][\"Autoencoder_Device\"]}')\n",
    "  torch.backends.cudnn.benchmark = True\n",
    "else:\n",
    "  DEVICE = torch.device('cpu')"
   ]
  },
  {
   "cell_type": "code",
   "execution_count": null,
   "metadata": {},
   "outputs": [],
   "source": [
    "earlyStatusPath = Path.cwd().parent.parent.joinpath('model', 'AE_CheckPoint.tar')\n",
    "encoderFilePath = Path.cwd().parent.parent.joinpath('model', f'AE{datetime.now().strftime(\"%Y%m%d\")}_encoder.pth')\n",
    "\n",
    "model = AutoEncoder().to(DEVICE)\n",
    "optimizer = torch.optim.SGD(model.parameters(), lr=LEARNING_RATE, momentum=0.9)\n",
    "criterion = nn.MSELoss().to(DEVICE)"
   ]
  },
  {
   "cell_type": "code",
   "execution_count": null,
   "metadata": {},
   "outputs": [],
   "source": [
    "if earlyStatusPath.exists():\n",
    "  ck = torch.load(earlyStatusPath, map_location=torch.device(DEVICE))\n",
    "  model.load_state_dict(ck['model_state_dict'])\n",
    "  optimizer.load_state_dict(ck['optimizer_state_dict'])\n",
    "  curEpoch = ck['current_epoch']\n",
    "  bestLoss = ck['best_loss']\n",
    "else:\n",
    "  curEpoch = 0\n",
    "  bestLoss = np.Inf"
   ]
  },
  {
   "cell_type": "code",
   "execution_count": null,
   "metadata": {},
   "outputs": [],
   "source": [
    "aeTrainDataloader = DataLoader(\n",
    "  BirdsongDataset(Path.cwd().parent.parent.joinpath('data', 'tmp', 'ae-train.csv'), needAugment=False, needLabel=False),\n",
    "  batch_size=BATCH_SIZE, shuffle=True, num_workers=4, pin_memory=True\n",
    ")\n",
    "aeValidateDataloader = DataLoader(\n",
    "  BirdsongDataset(Path.cwd().parent.parent.joinpath('data', 'tmp', 'ae-validate.csv'), needAugment=False, needLabel=False),\n",
    "  batch_size=BATCH_SIZE, shuffle=True, num_workers=4, pin_memory=True\n",
    ")"
   ]
  },
  {
   "cell_type": "markdown",
   "metadata": {},
   "source": [
    "## Training"
   ]
  },
  {
   "cell_type": "code",
   "execution_count": null,
   "metadata": {},
   "outputs": [],
   "source": [
    "for epoch in tqdm(range(curEpoch, EPOCHS)):\n",
    "  # Train\n",
    "  model.train()\n",
    "  trainingLoss = 0.0\n",
    "  for _, (inputs, _) in tqdm(enumerate(aeTrainDataloader), total=len(aeTrainDataloader)):\n",
    "    inputs = inputs.to(DEVICE)\n",
    "    optimizer.zero_grad()\n",
    "    _, outputs = model(inputs)\n",
    "    loss = criterion(outputs, inputs)\n",
    "    loss.backward()\n",
    "    optimizer.step()\n",
    "    trainingLoss += loss.item()\n",
    "  trainingLoss /= len(aeTrainDataloader)\n",
    "\n",
    "  # Validate \n",
    "  model.eval()\n",
    "  validationLoss = 0.0\n",
    "  with torch.no_grad():\n",
    "    for _, (inputs, _) in tqdm(enumerate(aeValidateDataloader), total=len(aeValidateDataloader)):\n",
    "      inputs = inputs.to(DEVICE)\n",
    "      _, outputs = model(inputs)\n",
    "      loss = criterion(outputs, inputs)\n",
    "      validationLoss += loss.item()\n",
    "  validationLoss /= len(aeValidateDataloader)\n",
    "\n",
    "  # Check loss\n",
    "  if validationLoss < bestLoss:\n",
    "    bestLoss = validationLoss\n",
    "    torch.save(model.encoder.stat_dict(), encoderFilePath)\n",
    "\n",
    "  # Save early Status\n",
    "  torch.save({\n",
    "    'current_epoch': epoch,\n",
    "    'model_state_dict': model.state_dict(),\n",
    "    'optimizer_state_dict': optimizer.state_dict(),\n",
    "    'best_loss': bestLoss,\n",
    "  }, earlyStatusPath)\n",
    "\n",
    "  # Print results\n",
    "  print(f\"\"\"\n",
    "    >> [{epoch + 1} / {EPOCHS}]\n",
    "    >> {\"Best Loss :\":>16} {bestLoss}\n",
    "    >> {\"Current Train Loss :\":>16} {trainingLoss:6f}\n",
    "    >> {\"Current Validate Loss :\":>16} {validationLoss:6f}\n",
    "  \"\"\")"
   ]
  }
 ],
 "metadata": {
  "kernelspec": {
   "display_name": "Python 3.9.13 ('pytorch_env')",
   "language": "python",
   "name": "python3"
  },
  "language_info": {
   "codemirror_mode": {
    "name": "ipython",
    "version": 3
   },
   "file_extension": ".py",
   "mimetype": "text/x-python",
   "name": "python",
   "nbconvert_exporter": "python",
   "pygments_lexer": "ipython3",
   "version": "3.9.13"
  },
  "orig_nbformat": 4,
  "vscode": {
   "interpreter": {
    "hash": "802908908370ccb42dc2a7ac32386db1a5400a9392b38929d32ff89e4b8f01c3"
   }
  }
 },
 "nbformat": 4,
 "nbformat_minor": 2
}
