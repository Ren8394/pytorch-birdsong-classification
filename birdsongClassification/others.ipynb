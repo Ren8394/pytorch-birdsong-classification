{
 "cells": [
  {
   "cell_type": "code",
   "execution_count": 2,
   "metadata": {},
   "outputs": [],
   "source": [
    "import pandas as pd\n",
    "import re\n",
    "\n",
    "from pathlib import Path\n",
    "from tqdm.notebook import tqdm"
   ]
  },
  {
   "cell_type": "code",
   "execution_count": 5,
   "metadata": {},
   "outputs": [
    {
     "data": {
      "application/vnd.jupyter.widget-view+json": {
       "model_id": "129da62d29c54333bc651a2385cb1419",
       "version_major": 2,
       "version_minor": 0
      },
      "text/plain": [
       "  0%|          | 0/1741 [00:00<?, ?it/s]"
      ]
     },
     "metadata": {},
     "output_type": "display_data"
    }
   ],
   "source": [
    "fs = lambda x: str(x)+'1' if re.findall(r\"(-S)\\b\", str(x)) else str(x)  # Add S1\n",
    "fc = lambda x: str(x)+'1' if re.findall(r\"(-C)\\b\", str(x)) else str(x)  # Add C1\n",
    "\n",
    "\n",
    "labelPaths = sorted(Path.cwd().parent.joinpath('data', 'Label').glob('*.txt')) + \\\n",
    "  sorted(Path.cwd().parent.joinpath('data', 'OpenSource').glob('*.txt'))\n",
    "\n",
    "for labelPath in tqdm(labelPaths):\n",
    "  df = pd.read_csv(labelPath, sep='\\t', names=['start_time', 'end_time', 'species'])\n",
    "  df = df[df['start_time'] != '\\\\']\n",
    "  df['species'] = df['species'].apply(lambda x: ''.join(str(x).split()))\n",
    "  df['species'] = df['species'].apply(fs)\n",
    "  df['species'] = df['species'].apply(fc)\n",
    "  df.to_csv(labelPath, sep='\\t', header=False, index=False, encoding='utf-8')"
   ]
  },
  {
   "cell_type": "code",
   "execution_count": 6,
   "metadata": {},
   "outputs": [
    {
     "data": {
      "application/vnd.jupyter.widget-view+json": {
       "model_id": "62f15e4341e745eebb58492e41002fc1",
       "version_major": 2,
       "version_minor": 0
      },
      "text/plain": [
       "  0%|          | 0/1243 [00:00<?, ?it/s]"
      ]
     },
     "metadata": {},
     "output_type": "display_data"
    }
   ],
   "source": [
    "# FileSpeciesList file\n",
    "import warnings\n",
    "warnings.filterwarnings('ignore')\n",
    "\n",
    "labelPaths = sorted(Path.cwd().parent.joinpath('data', 'Label').glob('*.txt'))\n",
    "\n",
    "fileSpeciesListDF = pd.DataFrame(index=[labelPath.name for labelPath in labelPaths])\n",
    "\n",
    "for labelPath in tqdm(labelPaths):\n",
    "  df = pd.read_csv(labelPath, sep='\\t', names=['start_time', 'end_time', 'species'])\n",
    "  tempSeries = df['species'].value_counts()\n",
    "  for sp in df['species'].unique():\n",
    "    if not sp in fileSpeciesListDF.columns:\n",
    "      fileSpeciesListDF[sp] = 0\n",
    "  for i, x in enumerate(tempSeries):\n",
    "    fileSpeciesListDF.loc[labelPath.name, tempSeries.index[i]] += x\n",
    "\n",
    "fileSpeciesListDF = fileSpeciesListDF.reindex(sorted(fileSpeciesListDF.columns), axis=1)\n",
    "fileSpeciesListDF.to_csv(Path.cwd().parent.joinpath('report', 'table', 'fileSpeciesList.csv'), header=True, index=True)"
   ]
  },
  {
   "cell_type": "code",
   "execution_count": null,
   "metadata": {},
   "outputs": [],
   "source": [
    "# SongTypeCount file\n",
    "# Visualise\n",
    "import collections\n",
    "import matplotlib.pyplot as plt\n",
    "\n",
    "countDict = {}\n",
    "\n",
    "for labelPath in tqdm(labelPaths):\n",
    "  df = pd.read_csv(labelPath, sep='\\t', names=['start_time', 'end_time', 'species'])\n",
    "  df = df[df['species'].str.contains('-S+', regex=True, na=False)]\n",
    "  df.reset_index(drop=True, inplace=True)\n",
    "\n",
    "  if df.empty:\n",
    "    continue\n",
    "\n",
    "  for _, x in df.iterrows():\n",
    "    if not countDict.get(x['species']):\n",
    "      countDict[x['species']] = 0\n",
    "    countDict[x['species']] += 1\n",
    "\n",
    "orderCountDict = collections.OrderedDict(sorted(countDict.items()))\n",
    "fig = plt.figure(figsize=(16, 9))\n",
    "plt.bar(range(len(orderCountDict)), list(orderCountDict.values()), tick_label=list(orderCountDict.keys()))\n",
    "plt.xticks(rotation=45)\n",
    "plt.show()\n",
    "countDF = pd.DataFrame.from_dict(orderCountDict, orient='index')\n",
    "countDF.to_csv(Path.cwd().parent.joinpath('report', 'table', 'songTypeCount.csv'), header=False, index=True)"
   ]
  }
 ],
 "metadata": {
  "kernelspec": {
   "display_name": "Python 3.9.13 ('pytorch_env')",
   "language": "python",
   "name": "python3"
  },
  "language_info": {
   "codemirror_mode": {
    "name": "ipython",
    "version": 3
   },
   "file_extension": ".py",
   "mimetype": "text/x-python",
   "name": "python",
   "nbconvert_exporter": "python",
   "pygments_lexer": "ipython3",
   "version": "3.9.13"
  },
  "orig_nbformat": 4,
  "vscode": {
   "interpreter": {
    "hash": "802908908370ccb42dc2a7ac32386db1a5400a9392b38929d32ff89e4b8f01c3"
   }
  }
 },
 "nbformat": 4,
 "nbformat_minor": 2
}
